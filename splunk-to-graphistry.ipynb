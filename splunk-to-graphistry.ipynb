{
 "cells": [
  {
   "cell_type": "markdown",
   "metadata": {},
   "source": [
    "**Imports:**"
   ]
  },
  {
   "cell_type": "code",
   "execution_count": null,
   "metadata": {
    "collapsed": true,
    "scrolled": true
   },
   "outputs": [],
   "source": [
    "import io, os, sys, types, datetime, math, StringIO, time\n",
    "import json\n",
    "\n",
    "import pandas\n",
    "import igraph\n",
    "import graphistry\n",
    "import splunklib.client as client\n",
    "import splunklib.results as results"
   ]
  },
  {
   "cell_type": "markdown",
   "metadata": {},
   "source": [
    "**API Connections:**"
   ]
  },
  {
   "cell_type": "code",
   "execution_count": null,
   "metadata": {
    "collapsed": true,
    "scrolled": false
   },
   "outputs": [],
   "source": [
    "try:\n",
    "    graphistry.register('$api_key$')\n",
    "    print \"\\n✨ Graphistry API Connection - OK\"\n",
    "except Exception,e: print str(e)\n",
    "    \n",
    "# Create a Service instance and Attempt Connection to Splunk\n",
    "cargs = {\n",
    "    'host': '$splunk_ip$',\n",
    "    'scheme': 'https',\n",
    "    'port': 8089,\n",
    "    'username': '$username$',\n",
    "    'password': '$password$'\n",
    "}\n",
    "\n",
    "try:\n",
    "    service = client.connect(**cargs)\n",
    "    print \"✨ Splunk API Connection - OK\"\n",
    "except Exception,e: print str(e)"
   ]
  },
  {
   "cell_type": "markdown",
   "metadata": {},
   "source": [
    "**Splunk Variables and Search Query:**"
   ]
  },
  {
   "cell_type": "code",
   "execution_count": null,
   "metadata": {
    "collapsed": true
   },
   "outputs": [],
   "source": [
    "#Splunk Variables\n",
    "kwargs={\"exec_mode\": \"normal\"}\n",
    "\n",
    "kwargs_options={\"output_mode\": \"csv\",\n",
    "                \"count\": \"100000\",\n",
    "                \"fields\": [\"user.screen_name\", \"in_reply_to_screen_name\"]}\n",
    "\n",
    "#Splunk search query\n",
    "splunk_query=\"\"\"\n",
    "search index=\"1337list\" in_reply_to_screen_name!=null earliest=-7d\n",
    "| table \"user.screen_name\", \"in_reply_to_screen_name\"\n",
    "\"\"\"\n",
    "\n",
    "#Graphistry variables\n",
    "source = 'user.screen_name'\n",
    "destination = 'in_reply_to_screen_name'\n",
    "node = 'user.screen_name'"
   ]
  },
  {
   "cell_type": "markdown",
   "metadata": {},
   "source": [
    "**Define a Function to Query Splunk and Display Search Progress:**"
   ]
  },
  {
   "cell_type": "code",
   "execution_count": null,
   "metadata": {
    "collapsed": true
   },
   "outputs": [],
   "source": [
    "# Function to Perform a Splunk search\n",
    "def execute_query():\n",
    "    \n",
    "    # Execute Search\n",
    "    job = service.jobs.create(splunk_query, **kwargs)\n",
    "\n",
    "    # A normal search returns the job's SID right away, so we need to poll for completion\n",
    "    while True:\n",
    "        while not job.is_ready():\n",
    "            pass\n",
    "        stats = {\"isDone\": job[\"isDone\"],\n",
    "                 \"doneProgress\": float(job[\"doneProgress\"])*100,\n",
    "                 \"scanCount\": int(job[\"scanCount\"]),\n",
    "                 \"eventCount\": int(job[\"eventCount\"]), \n",
    "                 \"resultCount\": int(job[\"resultCount\"])}\n",
    "        \n",
    "        status = (\"\\r%(doneProgress)03.1f%%   %(scanCount)d scanned   \" \n",
    "                  \"%(eventCount)d matched   %(resultCount)d results\") % stats\n",
    "\n",
    "        sys.stdout.write(status)\n",
    "        sys.stdout.flush()\n",
    "        if stats[\"isDone\"] == \"1\":\n",
    "            print \"\\nSearch duration: \", job[\"runDuration\"], \"seconds\"\n",
    "            sys.stdout.write(\"\\n***DONE***\")\n",
    "            break\n",
    "        time.sleep(0.5)\n",
    "\n",
    "    # Get the results and display them\n",
    "    csv_results = job.results(**kwargs_options).read()\n",
    "    job.cancel()\n",
    "    return csv_results"
   ]
  },
  {
   "cell_type": "markdown",
   "metadata": {},
   "source": [
    "**Execute Splunk Query:**"
   ]
  },
  {
   "cell_type": "code",
   "execution_count": null,
   "metadata": {
    "collapsed": true,
    "scrolled": false
   },
   "outputs": [],
   "source": [
    "csv_results = execute_query()"
   ]
  },
  {
   "cell_type": "markdown",
   "metadata": {},
   "source": [
    "**Store Results in Pandas Dataframe:**"
   ]
  },
  {
   "cell_type": "code",
   "execution_count": null,
   "metadata": {
    "collapsed": true
   },
   "outputs": [],
   "source": [
    "csv_results_pandas = pandas.read_csv(StringIO.StringIO(csv_results), encoding='utf8', sep=',', low_memory=False)"
   ]
  },
  {
   "cell_type": "code",
   "execution_count": null,
   "metadata": {
    "collapsed": true
   },
   "outputs": [],
   "source": [
    "type(csv_results_pandas), csv_results_pandas.shape"
   ]
  },
  {
   "cell_type": "markdown",
   "metadata": {},
   "source": [
    "**Display Sample of Results:**"
   ]
  },
  {
   "cell_type": "code",
   "execution_count": null,
   "metadata": {
    "collapsed": true,
    "scrolled": true
   },
   "outputs": [],
   "source": [
    "csv_results_pandas.head(5)"
   ]
  },
  {
   "cell_type": "markdown",
   "metadata": {},
   "source": [
    "**Define Graphistry Visual Schema:**"
   ]
  },
  {
   "cell_type": "code",
   "execution_count": null,
   "metadata": {
    "collapsed": true
   },
   "outputs": [],
   "source": [
    "g = graphistry.bind(source=source, destination=destination, node=node)"
   ]
  },
  {
   "cell_type": "markdown",
   "metadata": {},
   "source": [
    "**--->**  **Bind Data and Submit to Plot:**  **<---**"
   ]
  },
  {
   "cell_type": "code",
   "execution_count": null,
   "metadata": {
    "collapsed": true,
    "scrolled": false
   },
   "outputs": [],
   "source": [
    "g.plot(csv_results_pandas)"
   ]
  },
  {
   "cell_type": "markdown",
   "metadata": {},
   "source": [
    "**Convert to iGraph for Additional Analysis:**"
   ]
  },
  {
   "cell_type": "code",
   "execution_count": null,
   "metadata": {
    "collapsed": true,
    "scrolled": false
   },
   "outputs": [],
   "source": [
    "ig = g.pandas2igraph(csv_results_pandas)"
   ]
  },
  {
   "cell_type": "markdown",
   "metadata": {},
   "source": [
    "**Directed:**"
   ]
  },
  {
   "cell_type": "code",
   "execution_count": null,
   "metadata": {
    "collapsed": true
   },
   "outputs": [],
   "source": [
    "ig.vs['pagerank'] = ig.pagerank(directed=False)\n",
    "ig.vs['betweenness'] = ig.betweenness(directed=True)\n",
    "ig.es['ebetweenness'] = ig.edge_betweenness(directed=True)"
   ]
  },
  {
   "cell_type": "markdown",
   "metadata": {},
   "source": [
    "**Undirected:**"
   ]
  },
  {
   "cell_type": "code",
   "execution_count": null,
   "metadata": {
    "collapsed": true,
    "scrolled": false
   },
   "outputs": [],
   "source": [
    "uig = ig.copy()\n",
    "uig.to_undirected()\n",
    "ig.vs['community_infomap'] = uig.community_infomap().membership\n",
    "ig.vs['community_louvain'] = uig.community_multilevel().membership\n",
    "igraph.summary(ig)"
   ]
  },
  {
   "cell_type": "markdown",
   "metadata": {},
   "source": [
    "**--->**  **Bind Data and Re-submit to Plot:**  **<---**"
   ]
  },
  {
   "cell_type": "code",
   "execution_count": null,
   "metadata": {
    "collapsed": true,
    "scrolled": false
   },
   "outputs": [],
   "source": [
    "g.bind(point_color='', point_size='betweenness').plot(ig)"
   ]
  }
 ],
 "metadata": {
  "kernelspec": {
   "display_name": "Python 2",
   "language": "python",
   "name": "python2"
  },
  "language_info": {
   "codemirror_mode": {
    "name": "ipython",
    "version": 2
   },
   "file_extension": ".py",
   "mimetype": "text/x-python",
   "name": "python",
   "nbconvert_exporter": "python",
   "pygments_lexer": "ipython2",
   "version": "2.7.14"
  }
 },
 "nbformat": 4,
 "nbformat_minor": 1
}
