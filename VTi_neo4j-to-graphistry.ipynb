{
 "cells": [
  {
   "cell_type": "markdown",
   "metadata": {},
   "source": [
    "**Imports:**"
   ]
  },
  {
   "cell_type": "code",
   "execution_count": null,
   "metadata": {},
   "outputs": [],
   "source": [
    "import graphistry\n",
    "import igraph\n",
    "import pandas as p\n",
    "\n",
    "from py2neo import Graph, Node, Relationship"
   ]
  },
  {
   "cell_type": "markdown",
   "metadata": {},
   "source": [
    "**Authentication:**"
   ]
  },
  {
   "cell_type": "code",
   "execution_count": null,
   "metadata": {},
   "outputs": [],
   "source": [
    "try:\n",
    "    graphistry.register('{api_key}', api=2)\n",
    "    print('\\n✨ Graphistry API Connection - OK')\n",
    "except Exception as ex:\n",
    "    print(ex)\n",
    "\n",
    "try:\n",
    "    host = '127.0.0.1'\n",
    "    port = 7687\n",
    "    username = 'neo4j'\n",
    "    password = 'neo4j'\n",
    "    \n",
    "    graph = Graph(host=host, port=port, user=username, password=password)\n",
    "    print('✨ Neo4j Connection - OK')\n",
    "except Exception as ex:\n",
    "    print(ex)"
   ]
  },
  {
   "cell_type": "markdown",
   "metadata": {},
   "source": [
    "**Node Queries:**"
   ]
  },
  {
   "cell_type": "code",
   "execution_count": null,
   "metadata": {},
   "outputs": [],
   "source": [
    "domain = p.DataFrame(graph.run(\n",
    "'''\n",
    "MATCH (d:Domain) \n",
    "RETURN d.node AS node\n",
    "'''\n",
    ").data())\n",
    "\n",
    "domain['type'] = 'domain'\n",
    "domain['pcolor'] = 1001\n",
    "domain[:3]"
   ]
  },
  {
   "cell_type": "code",
   "execution_count": null,
   "metadata": {},
   "outputs": [],
   "source": [
    "ip_address = p.DataFrame(graph.run(\n",
    "'''\n",
    "MATCH (i:IP) \n",
    "RETURN i.node AS node\n",
    "'''\n",
    ").data())\n",
    "\n",
    "ip_address['type'] = 'ip_address'\n",
    "ip_address['pcolor'] = 1007\n",
    "ip_address[:3]"
   ]
  },
  {
   "cell_type": "code",
   "execution_count": null,
   "metadata": {},
   "outputs": [],
   "source": [
    "file = p.DataFrame(graph.run(\n",
    "'''\n",
    "MATCH (f:File) \n",
    "RETURN f.node AS node\n",
    "'''\n",
    ").data())\n",
    "\n",
    "file['type'] = 'file'\n",
    "file['pcolor'] = 1005\n",
    "file[:3]"
   ]
  },
  {
   "cell_type": "markdown",
   "metadata": {},
   "source": [
    "**Concat Nodes:**"
   ]
  },
  {
   "cell_type": "code",
   "execution_count": null,
   "metadata": {},
   "outputs": [],
   "source": [
    "nodes = p.concat([domain, ip_address, file], ignore_index=True)\n",
    "nodes[:4]"
   ]
  },
  {
   "cell_type": "markdown",
   "metadata": {},
   "source": [
    "**Edge Query:**"
   ]
  },
  {
   "cell_type": "code",
   "execution_count": null,
   "metadata": {},
   "outputs": [],
   "source": [
    "edges = p.DataFrame(graph.run(\n",
    "'''\n",
    "MATCH (a)-[b]->(c)\n",
    "RETURN a.node AS n1, c.node AS n2, b.time AS time\n",
    "'''\n",
    ").data())\n",
    "\n",
    "edges[:4]"
   ]
  },
  {
   "cell_type": "markdown",
   "metadata": {},
   "source": [
    "**Send to Graphistry API:**"
   ]
  },
  {
   "cell_type": "code",
   "execution_count": null,
   "metadata": {},
   "outputs": [],
   "source": [
    "g = graphistry.bind(source=\"n1\", destination=\"n2\", node=\"node\", point_color='pcolor').nodes(nodes).edges(edges)\n",
    "g.settings(height=800, url_params={'play': 1000, 'bg': '%230a0a0a'}).plot()"
   ]
  }
 ],
 "metadata": {
  "kernelspec": {
   "display_name": "Python 3",
   "language": "python",
   "name": "python3"
  },
  "language_info": {
   "codemirror_mode": {
    "name": "ipython",
    "version": 3
   },
   "file_extension": ".py",
   "mimetype": "text/x-python",
   "name": "python",
   "nbconvert_exporter": "python",
   "pygments_lexer": "ipython3",
   "version": "3.7.1"
  }
 },
 "nbformat": 4,
 "nbformat_minor": 2
}
