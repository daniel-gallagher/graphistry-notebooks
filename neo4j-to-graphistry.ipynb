{
 "cells": [
  {
   "cell_type": "markdown",
   "metadata": {},
   "source": [
    "**Imports:**"
   ]
  },
  {
   "cell_type": "code",
   "execution_count": null,
   "metadata": {},
   "outputs": [],
   "source": [
    "import graphistry\n",
    "import igraph\n",
    "import pandas as p\n",
    "\n",
    "from py2neo import Graph, Node, Relationship, authenticate"
   ]
  },
  {
   "cell_type": "markdown",
   "metadata": {},
   "source": [
    "**Authentication:**"
   ]
  },
  {
   "cell_type": "code",
   "execution_count": null,
   "metadata": {},
   "outputs": [],
   "source": [
    "try:\n",
    "    graphistry.register('$api_key$')\n",
    "    print('\\n✨ Graphistry API Connection - OK')\n",
    "except Exception,e: print str(e)\n",
    "\n",
    "try:\n",
    "    host = '127.0.0.1:7474'\n",
    "    url = 'http://127.0.0.1:7474/db/data/'\n",
    "    username = 'neo4j'\n",
    "    password = 'neo4j'\n",
    "    \n",
    "    authenticate(host, username, password)\n",
    "    graph = Graph(url)\n",
    "    print('✨ Neo4j Bolt Connection - OK')\n",
    "except Exception,e: print str(e)"
   ]
  },
  {
   "cell_type": "markdown",
   "metadata": {},
   "source": [
    "**Neo4j Cypher Query:**"
   ]
  },
  {
   "cell_type": "code",
   "execution_count": null,
   "metadata": {},
   "outputs": [],
   "source": [
    "query = p.DataFrame(graph.data(\n",
    "'''\n",
    "MATCH (u1:User)-[:POSTS]->(t1:Tweet)<-[:RETWEETS]-(t2:Tweet)<-[:POSTS]-(u2:User)\n",
    "RETURN u1.screen_name, u2.screen_name, t1.tid, t2.tid, t1.text, t2.text\n",
    "LIMIT 200000\n",
    "'''\n",
    "))\n",
    "\n",
    "type(query), query.shape"
   ]
  },
  {
   "cell_type": "markdown",
   "metadata": {},
   "source": [
    "**Sample Data:**"
   ]
  },
  {
   "cell_type": "code",
   "execution_count": null,
   "metadata": {},
   "outputs": [],
   "source": [
    "query.head(8)"
   ]
  },
  {
   "cell_type": "markdown",
   "metadata": {},
   "source": [
    "**Bind to Graphistry:**"
   ]
  },
  {
   "cell_type": "code",
   "execution_count": null,
   "metadata": {},
   "outputs": [],
   "source": [
    "g = graphistry.bind(source='u2.screen_name', destination='u1.screen_name', node='screen_name')"
   ]
  },
  {
   "cell_type": "markdown",
   "metadata": {},
   "source": [
    "**Pandas to iGraph:**"
   ]
  },
  {
   "cell_type": "code",
   "execution_count": null,
   "metadata": {},
   "outputs": [],
   "source": [
    "ig = g.pandas2igraph(query)"
   ]
  },
  {
   "cell_type": "code",
   "execution_count": null,
   "metadata": {},
   "outputs": [],
   "source": [
    "ig.vs['pagerank'] = ig.pagerank(directed=False)\n",
    "ig.vs['betweenness'] = ig.betweenness(directed=True)\n",
    "ig.es['ebetweenness'] = ig.edge_betweenness(directed=True)"
   ]
  },
  {
   "cell_type": "code",
   "execution_count": null,
   "metadata": {},
   "outputs": [],
   "source": [
    "uig = ig.copy()\n",
    "uig.to_undirected()\n",
    "ig.vs['community_infomap'] = uig.community_infomap().membership\n",
    "ig.vs['community_louvain'] = uig.community_multilevel().membership\n",
    "igraph.summary(ig)"
   ]
  },
  {
   "cell_type": "markdown",
   "metadata": {},
   "source": [
    "**Send to Graphistry API:**"
   ]
  },
  {
   "cell_type": "code",
   "execution_count": null,
   "metadata": {},
   "outputs": [],
   "source": [
    "g.bind(point_color='', point_size='').plot(ig)"
   ]
  }
 ],
 "metadata": {
  "kernelspec": {
   "display_name": "Python 3",
   "language": "python",
   "name": "python3"
  },
  "language_info": {
   "codemirror_mode": {
    "name": "ipython",
    "version": 2
   },
   "file_extension": ".py",
   "mimetype": "text/x-python",
   "name": "python",
   "nbconvert_exporter": "python",
   "pygments_lexer": "ipython2",
   "version": "2.7.14"
  }
 },
 "nbformat": 4,
 "nbformat_minor": 2
}
